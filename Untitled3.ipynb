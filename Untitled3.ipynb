{
  "nbformat": 4,
  "nbformat_minor": 0,
  "metadata": {
    "colab": {
      "provenance": [],
      "authorship_tag": "ABX9TyPKm+ZJvj3G1dDS/0laC255",
      "include_colab_link": true
    },
    "kernelspec": {
      "name": "python3",
      "display_name": "Python 3"
    },
    "language_info": {
      "name": "python"
    }
  },
  "cells": [
    {
      "cell_type": "markdown",
      "metadata": {
        "id": "view-in-github",
        "colab_type": "text"
      },
      "source": [
        "<a href=\"https://colab.research.google.com/github/anam161/ME639-Robotics-2023/blob/main/Untitled3.ipynb\" target=\"_parent\"><img src=\"https://colab.research.google.com/assets/colab-badge.svg\" alt=\"Open In Colab\"/></a>"
      ]
    },
    {
      "cell_type": "code",
      "source": [
        "Question no. 3"
      ],
      "metadata": {
        "id": "4I4CtCT7ncCb"
      },
      "execution_count": null,
      "outputs": []
    },
    {
      "cell_type": "code",
      "source": [
        "import numpy as np\n",
        "\n",
        "# class SCARA MANIPULATOR\n",
        "def transformation(q1,q2,q3,l1,l2,d4):\n",
        "  link_lengths= l1,l2\n",
        "  joint_angles= q1,q2,q3\n",
        "  translation=d4\n",
        "\n",
        "# joint angles\n",
        "\n",
        "q1_deg = 30\n",
        "q2_deg = 45\n",
        "q3_deg = 60\n",
        "\n",
        "# Convert angles to radians\n",
        "q1 = np.deg2rad(q1_deg)\n",
        "q2 = np.deg2rad(q2_deg)\n",
        "q3 = np.deg2rad(q3_deg)\n",
        "\n",
        "\n",
        "# link lengths\n",
        "\n",
        "l1 = 3\n",
        "l2 = 4\n",
        "\n",
        "# translation\n",
        "\n",
        "d4 = 5\n",
        "\n",
        "H01 = np.array([[np.cos(q1),np.sin(q1),0,0],\n",
        "                [-np.sin(q1),np.cos(q1),0,0],\n",
        "                [0,0,1,0],\n",
        "                [0,0,0,1]])\n",
        "\n",
        "H12 = np.array([[np.cos(q2),np.sin(q2),0,l1],\n",
        "                [-np.sin(q2),np.cos(q2),0,0],\n",
        "                [0,0,1,0],\n",
        "                [0,0,0,1]])\n",
        "\n",
        "H23 = np.array([[np.cos(q3),np.sin(q3),0,l2],\n",
        "                [-np.sin(q3),np.cos(q3),0,0],\n",
        "                [0,0,1,0],\n",
        "                [0,0,0,1]])\n",
        "\n",
        "H34 = np.array([[1,0,0,0],\n",
        "                [0,1,0,0],\n",
        "                [0,0,1,-d4],\n",
        "                [0,0,0,1]])\n",
        "\n",
        "P4 = ([[7],[8],[6],[1]])\n",
        "\n",
        "P0 = H01 @ H12 @ H23 @ H34 @ P4\n",
        "\n",
        "print(\"end effector position:\", P0)\n",
        "\n",
        "\n"
      ],
      "metadata": {
        "colab": {
          "base_uri": "https://localhost:8080/"
        },
        "id": "kKalZtLjGNbH",
        "outputId": "c75f5e51-636c-4572-cae1-74191b5e5282"
      },
      "execution_count": 27,
      "outputs": [
        {
          "output_type": "stream",
          "name": "stdout",
          "text": [
            "end effector position: [[  4.34045917]\n",
            " [-15.97030502]\n",
            " [  1.        ]\n",
            " [  1.        ]]\n"
          ]
        }
      ]
    },
    {
      "cell_type": "code",
      "source": [],
      "metadata": {
        "id": "m8yOzfw-navi"
      },
      "execution_count": null,
      "outputs": []
    },
    {
      "cell_type": "code",
      "source": [],
      "metadata": {
        "id": "pYbgTsDGnYs3"
      },
      "execution_count": null,
      "outputs": []
    },
    {
      "cell_type": "code",
      "source": [
        "Question no. 4"
      ],
      "metadata": {
        "id": "tIAadSySnmOT"
      },
      "execution_count": null,
      "outputs": []
    },
    {
      "cell_type": "code",
      "source": [
        "import numpy as np\n",
        "\n",
        "# class stanford manipulator\n",
        "\n",
        "def homogeneous_transformation(q1,q2,l1,l2,d3):\n",
        "  link_lengths = l1,l2\n",
        "  joint_angles = q1,q2\n",
        "  tranlation = d3\n",
        "\n",
        "# link length\n",
        "l1 = 4\n",
        "l2 = 5\n",
        "\n",
        "# joint angles\n",
        "q1 = np.pi/4\n",
        "q2 = np.pi/6\n",
        "#  translation\n",
        "d3=5\n",
        "\n",
        "# identity matrix\n",
        "I = np.array([[1,0,0],\n",
        "              [0,1,0],\n",
        "              [0,0,1]])\n",
        "\n",
        "R01 = np.array([[np.cos(q1),np.sin(q1),0],\n",
        "                [-np.sin(q1),np.cos(q1),0],\n",
        "                [0,0,1]])\n",
        "\n",
        "R_x1_90 = np.array([[1,0,0],\n",
        "                  [0,np.cos(np.pi/2),-np.sin(np.pi/2)],\n",
        "                  [0,np.sin(np.pi/2),np.cos(np.pi/2)]])\n",
        "\n",
        "R_y = np.array([[np.cos(-q1),0,np.sin(-q1)],\n",
        "                [0,1,0],\n",
        "                [-np.sin(-q1),0,np.cos(-q1)]])\n",
        "\n",
        "R12 = R_x1_90 @ R_y\n",
        "\n",
        "R_x2_90 = np.array([[1,0,0],\n",
        "                  [0,np.cos(-np.pi/2),-np.sin(-np.pi/2)],\n",
        "                  [0,np.sin(-np.pi/2),np.cos(-np.pi/2)]])\n",
        "\n",
        "R_z2 = np.array([[np.cos(q2),np.sin(q2),0],\n",
        "                 [-np.sin(q2),np.cos(q2),0],\n",
        "                 [0,0,1]])\n",
        "\n",
        "R23 = R_x2_90 @ R_z2\n",
        "\n",
        "H01 = np.block([[R01,np.array([[0],[0],[0]])],\n",
        "                [0,0,0,1]])\n",
        "H12 = np.block([[R12,np.array([[0],[0],[l1]])],\n",
        "                [0,0,0,1]])\n",
        "H23 = np.block([[R23,np.array([[0],[0],[l2]])],\n",
        "                [0,0,0,1]])\n",
        "H34 = np.block([[I,np.array([[0],[0],[d3]])],\n",
        "                [0,0,0,1]])\n",
        "\n",
        "P4 = np.array([[6],[7],[8],[1]])\n",
        "\n",
        "P0 = np.dot(np.dot(np.dot(np.dot(H01,H12),H23),H34),P4)\n",
        "\n",
        "print(\"End effector position:\", P0)\n",
        "\n"
      ],
      "metadata": {
        "colab": {
          "base_uri": "https://localhost:8080/"
        },
        "id": "Kp4_CFNKEvpk",
        "outputId": "93baa3b7-930a-4138-bf0f-fba295975bc0"
      },
      "execution_count": 34,
      "outputs": [
        {
          "output_type": "stream",
          "name": "stdout",
          "text": [
            "End effector position: [[-1.93782217]\n",
            " [-8.69615242]\n",
            " [17.        ]\n",
            " [ 1.        ]]\n"
          ]
        }
      ]
    },
    {
      "cell_type": "code",
      "source": [
        "Question no. 8"
      ],
      "metadata": {
        "id": "-ozLrjgFnr4W"
      },
      "execution_count": null,
      "outputs": []
    },
    {
      "cell_type": "code",
      "source": [
        "import sympy as sp\n",
        "\n",
        "# Define symbolic variables\n",
        "q1, q2, d3 = sp.symbols('q1 q2 d3')\n",
        "\n",
        "# Link lengths\n",
        "l1 = 3\n",
        "l2 = 4\n",
        "\n",
        "# Joint angles (in radians)\n",
        "q1_value = sp.pi / 6\n",
        "q2_value = sp.pi / 3\n",
        "\n",
        "# Transformation matrices\n",
        "T01 = sp.Matrix([[sp.cos(q1), -sp.sin(q1), 0, l1 * sp.cos(q1)],\n",
        "                 [sp.sin(q1), sp.cos(q1), 0, l1 * sp.sin(q1)],\n",
        "                 [0, 0, 1, 0],\n",
        "                 [0, 0, 0, 1]])\n",
        "\n",
        "T12 = sp.Matrix([[sp.cos(q2), -sp.sin(q2), 0, l2 * sp.cos(q2)],\n",
        "                 [sp.sin(q2), sp.cos(q2), 0, l2 * sp.sin(q2)],\n",
        "                 [0, 0, 1, 0],\n",
        "                 [0, 0, 0, 1]])\n",
        "\n",
        "T23 = sp.Matrix([[1, 0, 0, 0],\n",
        "                 [0, 1, 0, 0],\n",
        "                 [0, 0, 1, d3],\n",
        "                 [0, 0, 0, 1]])\n",
        "\n",
        "T03 = T01 * T12 * T23\n",
        "\n",
        "# Extract end-effector position\n",
        "px = T03[0, 3]\n",
        "py = T03[1, 3]\n",
        "pz = T03[2, 3]\n",
        "\n",
        "# Jacobian matrix\n",
        "J = sp.Matrix([[sp.diff(px, q1), sp.diff(px, q2), sp.diff(px, d3)],\n",
        "               [sp.diff(py, q1), sp.diff(py, q2), sp.diff(py, d3)],\n",
        "               [sp.diff(pz, q1), sp.diff(pz, q2), sp.diff(pz, d3)]])\n",
        "\n",
        "print(\"Jacobian Matrix:\")\n",
        "sp.pprint(J)\n"
      ],
      "metadata": {
        "colab": {
          "base_uri": "https://localhost:8080/"
        },
        "id": "x1NBuwOcLSOD",
        "outputId": "dd9c23e9-3e36-4578-a249-96cdc1f9a998"
      },
      "execution_count": 17,
      "outputs": [
        {
          "output_type": "stream",
          "name": "stdout",
          "text": [
            "Jacobian Matrix:\n",
            "⎡-4⋅sin(q₁)⋅cos(q₂) - 3⋅sin(q₁) - 4⋅sin(q₂)⋅cos(q₁)  -4⋅sin(q₁)⋅cos(q₂) - 4⋅si\n",
            "⎢                                                                             \n",
            "⎢-4⋅sin(q₁)⋅sin(q₂) + 4⋅cos(q₁)⋅cos(q₂) + 3⋅cos(q₁)  -4⋅sin(q₁)⋅sin(q₂) + 4⋅co\n",
            "⎢                                                                             \n",
            "⎣                        0                                             0      \n",
            "\n",
            "n(q₂)⋅cos(q₁)  0⎤\n",
            "                ⎥\n",
            "s(q₁)⋅cos(q₂)  0⎥\n",
            "                ⎥\n",
            "               1⎦\n"
          ]
        }
      ]
    },
    {
      "cell_type": "code",
      "source": [
        "Question no. 10"
      ],
      "metadata": {
        "id": "AeXHVnRlnvzW"
      },
      "execution_count": null,
      "outputs": []
    },
    {
      "cell_type": "code",
      "source": [
        "import sympy as sp\n",
        "\n",
        "\n",
        "q1, q2, q3 = sp.symbols('q1 q2 q3')\n",
        "\n",
        "# Define the link lengths\n",
        "l1 = 2\n",
        "l2 = 3\n",
        "l3 = 4\n",
        "\n",
        "\n",
        "# Forward kinematics transformation matrices\n",
        "T01 = sp.Matrix([[sp.cos(q1), -sp.sin(q1), 0, l1 * sp.cos(q1)],\n",
        "                 [sp.sin(q1), sp.cos(q1), 0, l1 * sp.sin(q1)],\n",
        "                 [0, 0, 1, 0],\n",
        "                 [0, 0, 0, 1]])\n",
        "\n",
        "T12 = sp.Matrix([[sp.cos(q2), -sp.sin(q2), 0, l2 * sp.cos(q2)],\n",
        "                 [sp.sin(q2), sp.cos(q2), 0, l2 * sp.sin(q2)],\n",
        "                 [0, 0, 1, 0],\n",
        "                 [0, 0, 0, 1]])\n",
        "\n",
        "T23 = sp.Matrix([[sp.cos(q3), -sp.sin(q3), 0, l3 * sp.cos(q3)],\n",
        "                 [sp.sin(q3), sp.cos(q3), 0, l3 * sp.sin(q3)],\n",
        "                 [0, 0, 1, 0],\n",
        "                 [0, 0, 0, 1]])\n",
        "\n",
        "\n",
        "T03 = T01 * T12 * T23\n",
        "\n",
        "# Extract the position of the end-effector\n",
        "px = T03[0, 3]\n",
        "py = T03[1, 3]\n",
        "pz = T03[2, 3]\n",
        "\n",
        "# Jacobian matrix\n",
        "J = sp.Matrix([[sp.diff(px, q1), sp.diff(px, q2), sp.diff(px, q3)],\n",
        "               [sp.diff(py, q1), sp.diff(py, q2), sp.diff(py, q3)],\n",
        "               [sp.diff(pz, q1), sp.diff(pz, q2), sp.diff(pz, q3)]])\n",
        "\n",
        "\n",
        "print(\"Jacobian Matrix:\")\n",
        "sp.pprint(J)\n"
      ],
      "metadata": {
        "colab": {
          "base_uri": "https://localhost:8080/"
        },
        "id": "WT8XY8W7hYZO",
        "outputId": "7ad954bc-ef8c-4ec2-8ad4-a52a4a919616"
      },
      "execution_count": 21,
      "outputs": [
        {
          "output_type": "stream",
          "name": "stdout",
          "text": [
            "Jacobian Matrix:\n",
            "⎡4⋅(sin(q₁)⋅sin(q₂) - cos(q₁)⋅cos(q₂))⋅sin(q₃) + 4⋅(-sin(q₁)⋅cos(q₂) - sin(q₂)\n",
            "⎢                                                                             \n",
            "⎢4⋅(-sin(q₁)⋅sin(q₂) + cos(q₁)⋅cos(q₂))⋅cos(q₃) + 4⋅(-sin(q₁)⋅cos(q₂) - sin(q₂\n",
            "⎢                                                                             \n",
            "⎣                                                                         0   \n",
            "\n",
            "⋅cos(q₁))⋅cos(q₃) - 3⋅sin(q₁)⋅cos(q₂) - 2⋅sin(q₁) - 3⋅sin(q₂)⋅cos(q₁)   4⋅(sin\n",
            "                                                                              \n",
            ")⋅cos(q₁))⋅sin(q₃) - 3⋅sin(q₁)⋅sin(q₂) + 3⋅cos(q₁)⋅cos(q₂) + 2⋅cos(q₁)  4⋅(-si\n",
            "                                                                              \n",
            "                                                                              \n",
            "\n",
            "(q₁)⋅sin(q₂) - cos(q₁)⋅cos(q₂))⋅sin(q₃) + 4⋅(-sin(q₁)⋅cos(q₂) - sin(q₂)⋅cos(q₁\n",
            "                                                                              \n",
            "n(q₁)⋅sin(q₂) + cos(q₁)⋅cos(q₂))⋅cos(q₃) + 4⋅(-sin(q₁)⋅cos(q₂) - sin(q₂)⋅cos(q\n",
            "                                                                              \n",
            "                                                             0                \n",
            "\n",
            "))⋅cos(q₃) - 3⋅sin(q₁)⋅cos(q₂) - 3⋅sin(q₂)⋅cos(q₁)   -4⋅(-sin(q₁)⋅sin(q₂) + co\n",
            "                                                                              \n",
            "₁))⋅sin(q₃) - 3⋅sin(q₁)⋅sin(q₂) + 3⋅cos(q₁)⋅cos(q₂)   4⋅(-sin(q₁)⋅sin(q₂) + co\n",
            "                                                                              \n",
            "                                                                              \n",
            "\n",
            "s(q₁)⋅cos(q₂))⋅sin(q₃) + 4⋅(-sin(q₁)⋅cos(q₂) - sin(q₂)⋅cos(q₁))⋅cos(q₃)⎤\n",
            "                                                                       ⎥\n",
            "s(q₁)⋅cos(q₂))⋅cos(q₃) - 4⋅(sin(q₁)⋅cos(q₂) + sin(q₂)⋅cos(q₁))⋅sin(q₃) ⎥\n",
            "                                                                       ⎥\n",
            "                      0                                                ⎦\n"
          ]
        }
      ]
    }
  ]
}