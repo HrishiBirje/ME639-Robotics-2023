{
  "nbformat": 4,
  "nbformat_minor": 0,
  "metadata": {
    "colab": {
      "provenance": [],
      "toc_visible": true
    },
    "kernelspec": {
      "name": "python3",
      "display_name": "Python 3"
    },
    "language_info": {
      "name": "python"
    }
  },
  "cells": [
    {
      "cell_type": "code",
      "source": [
        "import numpy as np\n",
        "\n",
        "theta = np.array([0.1, 0.2, 0.3, 0.4, 0.5, 0.6])\n",
        "\n",
        "a = [0.089159, -0.42500, -0.39225, 0.10915, 0.09465, 0.0823]  # Link lengths (a_i)\n",
        "d = [0.10915, 0.0, 0.0, 0.09465, 0.0, 0.0823]               # Joint offsets (d_i)\n",
        "alpha = [-np.pi/2, 0, 0, -np.pi/2, np.pi/2, 0]              # Twist angles (alpha_i)\n",
        "\n",
        "T = np.eye(4)\n",
        "\n",
        "rotation_matrices = []\n",
        "\n",
        "# Calculate the rotation matrices for each joint\n",
        "for i in range(6):\n",
        "    # Define the Denavit-Hartenberg parameters for the current joint\n",
        "    theta_i = theta[i]\n",
        "    a_i = a[i]\n",
        "    d_i = d[i]\n",
        "    alpha_i = alpha[i]\n",
        "\n",
        "    # Create the transformation matrix for the current joint\n",
        "    A_i = np.array([\n",
        "        [np.cos(theta_i), -np.sin(theta_i) * np.cos(alpha_i), np.sin(theta_i) * np.sin(alpha_i), a_i * np.cos(theta_i)],\n",
        "        [np.sin(theta_i), np.cos(theta_i) * np.cos(alpha_i), -np.cos(theta_i) * np.sin(alpha_i), a_i * np.sin(theta_i)],\n",
        "        [0, np.sin(alpha_i), np.cos(alpha_i), d_i],\n",
        "        [0, 0, 0, 1]\n",
        "    ])\n",
        "\n",
        "    # Update the overall transformation matrix\n",
        "    T = np.dot(T, A_i)\n",
        "\n",
        "    # Extract the rotation matrix part from the transformation matrix\n",
        "    R = T[:3, :3]\n",
        "\n",
        "    # Append the rotation matrix to the list\n",
        "    rotation_matrices.append(R)\n",
        "\n",
        "# Print the rotation matrices for each joint\n",
        "for i, R_i in enumerate(rotation_matrices):\n",
        "    print(f\"Rotation Matrix for Joint {i + 1}:\")\n",
        "    print(R_i)\n",
        "    print()\n"
      ],
      "metadata": {
        "id": "3x7AB_4Kg2fe"
      },
      "execution_count": null,
      "outputs": []
    },
    {
      "cell_type": "code",
      "source": [
        "import numpy as np\n",
        "\n",
        "\n",
        "theta = np.array([0.1, 0.2, 0.3, 0.4, 0.5, 0.6])\n",
        "\n",
        "\n",
        "a = np.array([0.1, 0.2, 0.15, 0.05, 0.1, 0.05])  # Link lengths\n",
        "d = np.array([0.05, 0.0, 0.0, 0.1, 0.0, 0.05])  # Joint offsets\n",
        "\n",
        "# Define the end-effector's position (XYZ) and orientation (Euler angles)\n",
        "end_effector_pos = np.array([0.5, 0.3, 0.2])\n",
        "end_effector_orientation = np.array([0.1, 0.2, 0.3])  # Roll, Pitch, Yaw angles\n",
        "\n",
        "# Initialize the Jacobian matrix\n",
        "J = np.zeros((6, 6))\n",
        "\n",
        "\n",
        "for i in range(6):\n",
        "    # Define the rotation matrix for the i-th joint\n",
        "    R_i = np.array([[np.cos(theta[i]), -np.sin(theta[i]), 0],\n",
        "                    [np.sin(theta[i]), np.cos(theta[i]), 0],\n",
        "                    [0, 0, 1]])\n",
        "\n",
        "\n",
        "    P_i = np.array([a[i] * np.cos(theta[i]), a[i] * np.sin(theta[i]), d[i]])\n",
        "\n",
        "    # Calculate the end-effector's position relative to the i-th joint\n",
        "    P_ei = end_effector_pos - P_i\n",
        "\n",
        "    # Calculate the cross product to obtain the linear velocity component\n",
        "    J[0:3, i] = np.cross(R_i[:, 2], P_ei)\n",
        "\n",
        "# Calculate the Jacobian's angular velocity components (orientation)\n",
        "for i in range(6):\n",
        "    J[3:6, i] = R_i[:, 2]  # The Z-axis of the i-th joint\n",
        "\n",
        "# Display the Jacobian matrix\n",
        "print(\"Jacobian Matrix:\")\n",
        "print(J)\n"
      ],
      "metadata": {
        "id": "d0O12d50dnfB"
      },
      "execution_count": null,
      "outputs": []
    },
    {
      "cell_type": "code",
      "source": [
        "import numpy as np\n",
        "\n",
        "\n",
        "theta = np.array([0.1, 0.2, 0.3, 0.4, 0.5, 0.6])\n",
        "\n",
        "\n",
        "a = [0.089159, -0.42500, -0.39225, 0.10915, 0.09465, 0.0823]  # Link lengths (a_i)\n",
        "d = [0.10915, 0.0, 0.0, 0.09465, 0.0, 0.0823]               # Joint offsets (d_i)\n",
        "alpha = [-np.pi/2, 0, 0, -np.pi/2, np.pi/2, 0]              # Twist angles (alpha_i)\n",
        "\n",
        "\n",
        "T = np.eye(4)\n",
        "\n",
        "\n",
        "rotation_matrices = []\n",
        "\n",
        "# Calculate the rotation matrices for each joint\n",
        "for i in range(6):\n",
        "    # Define the Denavit-Hartenberg parameters for the current joint\n",
        "    theta_i = theta[i]\n",
        "    a_i = a[i]\n",
        "    d_i = d[i]\n",
        "    alpha_i = alpha[i]\n",
        "\n",
        "    # Create the transformation matrix for the current joint\n",
        "    A_i = np.array([\n",
        "        [np.cos(theta_i), -np.sin(theta_i) * np.cos(alpha_i), np.sin(theta_i) * np.sin(alpha_i), a_i * np.cos(theta_i)],\n",
        "        [np.sin(theta_i), np.cos(theta_i) * np.cos(alpha_i), -np.cos(theta_i) * np.sin(alpha_i), a_i * np.sin(theta_i)],\n",
        "        [0, np.sin(alpha_i), np.cos(alpha_i), d_i],\n",
        "        [0, 0, 0, 1]\n",
        "    ])\n",
        "\n",
        "    # Update the overall transformation matrix\n",
        "    T = np.dot(T, A_i)\n",
        "\n",
        "    # Extract the rotation matrix part from the transformation matrix\n",
        "    R = T[:3, :3]\n",
        "\n",
        "    # Append the rotation matrix to the list\n",
        "    rotation_matrices.append(R)\n",
        "\n",
        "# Print the rotation matrices for each joint\n",
        "for i, R_i in enumerate(rotation_matrices):\n",
        "    print(f\"Rotation Matrix for Joint {i + 1}:\")\n",
        "    print(R_i)\n",
        "    print()\n"
      ],
      "metadata": {
        "id": "gp5qq7jBgihu"
      },
      "execution_count": null,
      "outputs": []
    },
    {
      "cell_type": "code",
      "source": [],
      "metadata": {
        "id": "Y3-MKXGNgxva"
      },
      "execution_count": null,
      "outputs": []
    },
    {
      "cell_type": "markdown",
      "source": [],
      "metadata": {
        "id": "u-skl7G3gzpR"
      }
    }
  ]
}